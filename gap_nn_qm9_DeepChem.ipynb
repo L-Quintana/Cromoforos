{
  "nbformat": 4,
  "nbformat_minor": 0,
  "metadata": {
    "colab": {
      "name": "gap_nn_qm9_DeepChem.ipynb",
      "provenance": [],
      "collapsed_sections": [],
      "authorship_tag": "ABX9TyOSZp+9b2indgkbgvIICQ1f",
      "include_colab_link": true
    },
    "kernelspec": {
      "display_name": "Python 3",
      "name": "python3"
    },
    "language_info": {
      "name": "python"
    },
    "accelerator": "GPU"
  },
  "cells": [
    {
      "cell_type": "markdown",
      "metadata": {
        "id": "view-in-github",
        "colab_type": "text"
      },
      "source": [
        "<a href=\"https://colab.research.google.com/github/L-Quintana/Cromoforos/blob/main/gap_nn_qm9_DeepChem.ipynb\" target=\"_parent\"><img src=\"https://colab.research.google.com/assets/colab-badge.svg\" alt=\"Open In Colab\"/></a>"
      ]
    },
    {
      "cell_type": "markdown",
      "metadata": {
        "id": "yD-P9tMgHQbg"
      },
      "source": [
        "Instalando DeepChem"
      ]
    },
    {
      "cell_type": "code",
      "metadata": {
        "id": "OOASuGZkgKVO",
        "colab": {
          "base_uri": "https://localhost:8080/"
        },
        "outputId": "26056077-5599-409f-ab1f-578f32db1610"
      },
      "source": [
        "# Conda contiene una serie de herramientas de colab, incluidas Pandas , Scikit-Learn , PyTorch, etc.\n",
        "\n",
        "!curl -Lo conda_installer.py https://raw.githubusercontent.com/deepchem/deepchem/master/scripts/colab_install.py\n",
        "import conda_installer\n",
        "conda_installer.install()\n",
        "!/root/miniconda/bin/conda info -e"
      ],
      "execution_count": 1,
      "outputs": [
        {
          "output_type": "stream",
          "name": "stdout",
          "text": [
            "  % Total    % Received % Xferd  Average Speed   Time    Time     Time  Current\n",
            "                                 Dload  Upload   Total   Spent    Left  Speed\n",
            "100  3501  100  3501    0     0   8818      0 --:--:-- --:--:-- --:--:--  8818\n"
          ]
        },
        {
          "output_type": "stream",
          "name": "stderr",
          "text": [
            "add /root/miniconda/lib/python3.7/site-packages to PYTHONPATH\n",
            "python version: 3.7.11\n",
            "fetching installer from https://repo.continuum.io/miniconda/Miniconda3-latest-Linux-x86_64.sh\n",
            "done\n",
            "installing miniconda to /root/miniconda\n",
            "done\n",
            "installing rdkit, openmm, pdbfixer\n",
            "added conda-forge to channels\n",
            "added omnia to channels\n",
            "done\n",
            "conda packages installation finished!\n"
          ]
        },
        {
          "output_type": "stream",
          "name": "stdout",
          "text": [
            "# conda environments:\n",
            "#\n",
            "base                  *  /root/miniconda\n",
            "\n"
          ]
        }
      ]
    },
    {
      "cell_type": "code",
      "metadata": {
        "colab": {
          "base_uri": "https://localhost:8080/"
        },
        "id": "J24dzLyaKR5C",
        "outputId": "2ffa8a31-99da-4488-fe77-9d1b2a6956a5"
      },
      "source": [
        "!pip install kora\n",
        "import kora.install.rdkit"
      ],
      "execution_count": 2,
      "outputs": [
        {
          "output_type": "stream",
          "name": "stdout",
          "text": [
            "Collecting kora\n",
            "  Downloading kora-0.9.19-py3-none-any.whl (57 kB)\n",
            "\u001b[K     |████████████████████████████████| 57 kB 2.3 MB/s \n",
            "\u001b[?25hCollecting fastcore\n",
            "  Downloading fastcore-1.3.26-py3-none-any.whl (56 kB)\n",
            "\u001b[K     |████████████████████████████████| 56 kB 3.1 MB/s \n",
            "\u001b[?25hRequirement already satisfied: ipython in /usr/local/lib/python3.7/dist-packages (from kora) (5.5.0)\n",
            "Requirement already satisfied: packaging in /usr/local/lib/python3.7/dist-packages (from fastcore->kora) (21.0)\n",
            "Requirement already satisfied: pip in /usr/local/lib/python3.7/dist-packages (from fastcore->kora) (21.1.3)\n",
            "Requirement already satisfied: traitlets>=4.2 in /usr/local/lib/python3.7/dist-packages (from ipython->kora) (5.0.5)\n",
            "Requirement already satisfied: prompt-toolkit<2.0.0,>=1.0.4 in /usr/local/lib/python3.7/dist-packages (from ipython->kora) (1.0.18)\n",
            "Requirement already satisfied: simplegeneric>0.8 in /usr/local/lib/python3.7/dist-packages (from ipython->kora) (0.8.1)\n",
            "Requirement already satisfied: pygments in /usr/local/lib/python3.7/dist-packages (from ipython->kora) (2.6.1)\n",
            "Requirement already satisfied: pickleshare in /usr/local/lib/python3.7/dist-packages (from ipython->kora) (0.7.5)\n",
            "Requirement already satisfied: decorator in /usr/local/lib/python3.7/dist-packages (from ipython->kora) (4.4.2)\n",
            "Requirement already satisfied: pexpect in /usr/local/lib/python3.7/dist-packages (from ipython->kora) (4.8.0)\n",
            "Requirement already satisfied: setuptools>=18.5 in /usr/local/lib/python3.7/dist-packages (from ipython->kora) (57.4.0)\n",
            "Requirement already satisfied: wcwidth in /usr/local/lib/python3.7/dist-packages (from prompt-toolkit<2.0.0,>=1.0.4->ipython->kora) (0.2.5)\n",
            "Requirement already satisfied: six>=1.9.0 in /usr/local/lib/python3.7/dist-packages (from prompt-toolkit<2.0.0,>=1.0.4->ipython->kora) (1.15.0)\n",
            "Requirement already satisfied: ipython-genutils in /usr/local/lib/python3.7/dist-packages (from traitlets>=4.2->ipython->kora) (0.2.0)\n",
            "Requirement already satisfied: pyparsing>=2.0.2 in /usr/local/lib/python3.7/dist-packages (from packaging->fastcore->kora) (2.4.7)\n",
            "Requirement already satisfied: ptyprocess>=0.5 in /usr/local/lib/python3.7/dist-packages (from pexpect->ipython->kora) (0.7.0)\n",
            "Installing collected packages: fastcore, kora\n",
            "Successfully installed fastcore-1.3.26 kora-0.9.19\n"
          ]
        }
      ]
    },
    {
      "cell_type": "code",
      "metadata": {
        "colab": {
          "base_uri": "https://localhost:8080/"
        },
        "id": "Q23-4CRbggt0",
        "outputId": "493f5dfd-08d3-4f04-a07a-153fabf73798"
      },
      "source": [
        "!pip install --pre deepchem"
      ],
      "execution_count": 3,
      "outputs": [
        {
          "output_type": "stream",
          "name": "stdout",
          "text": [
            "Collecting deepchem\n",
            "  Downloading deepchem-2.6.0.dev20210901161559-py3-none-any.whl (597 kB)\n",
            "\u001b[K     |████████████████████████████████| 597 kB 4.2 MB/s \n",
            "\u001b[?25hRequirement already satisfied: scipy in /usr/local/lib/python3.7/dist-packages (from deepchem) (1.4.1)\n",
            "Requirement already satisfied: pandas in /usr/local/lib/python3.7/dist-packages (from deepchem) (1.1.5)\n",
            "Requirement already satisfied: numpy in /usr/local/lib/python3.7/dist-packages (from deepchem) (1.19.5)\n",
            "Requirement already satisfied: scikit-learn in /usr/local/lib/python3.7/dist-packages (from deepchem) (0.22.2.post1)\n",
            "Requirement already satisfied: joblib in /usr/local/lib/python3.7/dist-packages (from deepchem) (1.0.1)\n",
            "Requirement already satisfied: pytz>=2017.2 in /usr/local/lib/python3.7/dist-packages (from pandas->deepchem) (2018.9)\n",
            "Requirement already satisfied: python-dateutil>=2.7.3 in /usr/local/lib/python3.7/dist-packages (from pandas->deepchem) (2.8.2)\n",
            "Requirement already satisfied: six>=1.5 in /usr/local/lib/python3.7/dist-packages (from python-dateutil>=2.7.3->pandas->deepchem) (1.15.0)\n",
            "Installing collected packages: deepchem\n",
            "Successfully installed deepchem-2.6.0.dev20210901161559\n"
          ]
        }
      ]
    },
    {
      "cell_type": "code",
      "metadata": {
        "colab": {
          "base_uri": "https://localhost:8080/",
          "height": 35
        },
        "id": "NmYr0934gse1",
        "outputId": "3e0c6423-4600-415d-9e44-030381f9f14e"
      },
      "source": [
        "import deepchem as dc\n",
        "dc.__version__"
      ],
      "execution_count": 4,
      "outputs": [
        {
          "output_type": "execute_result",
          "data": {
            "application/vnd.google.colaboratory.intrinsic+json": {
              "type": "string"
            },
            "text/plain": [
              "'2.6.0.dev'"
            ]
          },
          "metadata": {},
          "execution_count": 4
        }
      ]
    },
    {
      "cell_type": "markdown",
      "metadata": {
        "id": "Ntup5NrjMfcO"
      },
      "source": [
        "Importar librerías"
      ]
    },
    {
      "cell_type": "code",
      "metadata": {
        "colab": {
          "base_uri": "https://localhost:8080/"
        },
        "id": "7q9WwKDIW3ES",
        "outputId": "41449598-f0a9-479a-85e6-2823687b9464"
      },
      "source": [
        "import sys # El módulo sys es el encargado de proveer variables y funcionalidades, directamente relacionadas con el intérprete (python). Es una lista de directorios/carpetas donde Python busca los módulos cuando realizamos un import.\n",
        "import os\n",
        "sys.path.append('/usr/local/lib/python3.7/site-packages/')\n",
        "\n",
        "!python --version"
      ],
      "execution_count": 5,
      "outputs": [
        {
          "output_type": "stream",
          "name": "stdout",
          "text": [
            "Python 3.7.11\n"
          ]
        }
      ]
    },
    {
      "cell_type": "code",
      "metadata": {
        "id": "B0-QMmwFMzKN"
      },
      "source": [
        "import numpy as np\n",
        "%matplotlib inline\n",
        "import matplotlib\n",
        "import numpy as np\n",
        "import matplotlib.pyplot as plt"
      ],
      "execution_count": 6,
      "outputs": []
    },
    {
      "cell_type": "markdown",
      "metadata": {
        "id": "2lm8zhWLhLvY"
      },
      "source": [
        "#qm9 dataset"
      ]
    },
    {
      "cell_type": "code",
      "metadata": {
        "id": "jWGxqMnaZZXy"
      },
      "source": [
        "dataset_file = \"/content/gdb9.sdf\"  #Hay que subir ambos archivos(gdb9.sdf y gdb9.sdf.csv ) para que funcione esta celda\n",
        "tasks=['gap']\n",
        "#tasks=['mu','alpha', 'homo', 'lumo', 'gap', 'r2', 'zpve', 'cv', 'u0', 'u298', 'h298', 'g298']"
      ],
      "execution_count": 7,
      "outputs": []
    },
    {
      "cell_type": "code",
      "metadata": {
        "id": "fYHB2H7aNd3q"
      },
      "source": [
        "#Eigenvalores de Matriz de Coulomb (empleando method randomize_coulomb_matrices to randomize Coulomb matrices)\n",
        "featurizer = dc.feat.CoulombMatrixEig(29, remove_hydrogens=False, randomize= True) "
      ],
      "execution_count": 8,
      "outputs": []
    },
    {
      "cell_type": "code",
      "metadata": {
        "colab": {
          "base_uri": "https://localhost:8080/"
        },
        "id": "-5u3dhhh3BP2",
        "outputId": "7e4725c2-c56e-497b-8f82-d073fbc2840f"
      },
      "source": [
        "loader = dc.data.SDFLoader(\n",
        "      tasks=['gap'],\n",
        "      featurizer=featurizer)\n",
        "dataset = loader.create_dataset(dataset_file)"
      ],
      "execution_count": 9,
      "outputs": [
        {
          "output_type": "stream",
          "name": "stderr",
          "text": [
            "/usr/local/lib/python3.7/dist-packages/deepchem/feat/molecule_featurizers/coulomb_matrices.py:146: RuntimeWarning: divide by zero encountered in true_divide\n",
            "  m = np.outer(z, z) / d\n"
          ]
        }
      ]
    },
    {
      "cell_type": "code",
      "metadata": {
        "colab": {
          "base_uri": "https://localhost:8080/"
        },
        "id": "buWSHpRr3WPu",
        "outputId": "efa58544-a358-4ebc-d818-126c2dfba5b1"
      },
      "source": [
        "dataset #Todo el conjunto de datos sin transformar"
      ],
      "execution_count": 10,
      "outputs": [
        {
          "output_type": "execute_result",
          "data": {
            "text/plain": [
              "<DiskDataset X.shape: (133885, 29), y.shape: (133885, 1), w.shape: (133885, 1), task_names: ['gap']>"
            ]
          },
          "metadata": {},
          "execution_count": 10
        }
      ]
    },
    {
      "cell_type": "markdown",
      "metadata": {
        "id": "Q5KG3FkIlNxC"
      },
      "source": [
        "```\n",
        "transformers = [\n",
        "    dc.trans.NormalizationTransformer(transform_X=True, dataset=train_dataset),\n",
        "    dc.trans.NormalizationTransformer(transform_y=True, dataset=train_dataset)]\n",
        "\n",
        "for dataset in [train_dataset, valid_dataset, test_dataset]:\n",
        "  for transformer in transformers:\n",
        "      dataset = transformer.transform(dataset)\n",
        "```\n",
        "\n"
      ]
    },
    {
      "cell_type": "code",
      "metadata": {
        "id": "okZOMxrbbbNz"
      },
      "source": [
        "transformers = [\n",
        "    dc.trans.NormalizationTransformer(transform_X=True, dataset=dataset),\n",
        "    dc.trans.NormalizationTransformer(transform_y=True, dataset=dataset)]\n",
        "\n",
        "for transformer in transformers:\n",
        "  dataset = transformer.transform(dataset)"
      ],
      "execution_count": 11,
      "outputs": []
    },
    {
      "cell_type": "code",
      "metadata": {
        "id": "I4sMqI8wApDj"
      },
      "source": [
        "random_splitter = dc.splits.RandomSplitter()\n",
        "train_dataset, valid_dataset, test_dataset = random_splitter.train_valid_test_split(dataset)"
      ],
      "execution_count": 12,
      "outputs": []
    },
    {
      "cell_type": "markdown",
      "metadata": {
        "id": "4-B_BI-WiW4L"
      },
      "source": [
        "Estructura de los datasets"
      ]
    },
    {
      "cell_type": "code",
      "metadata": {
        "colab": {
          "base_uri": "https://localhost:8080/"
        },
        "id": "FfMB47BpiBAf",
        "outputId": "7d2b6d1b-49d3-47d7-a85a-a2e6d65efbba"
      },
      "source": [
        "dataset"
      ],
      "execution_count": 13,
      "outputs": [
        {
          "output_type": "execute_result",
          "data": {
            "text/plain": [
              "<DiskDataset X.shape: (133885, 29), y.shape: (133885, 1), w.shape: (133885, 1), task_names: ['gap']>"
            ]
          },
          "metadata": {},
          "execution_count": 13
        }
      ]
    },
    {
      "cell_type": "code",
      "metadata": {
        "colab": {
          "base_uri": "https://localhost:8080/"
        },
        "id": "o4gmnTDKYonD",
        "outputId": "76b32b09-240c-4d91-e55c-0fcff3c58d8a"
      },
      "source": [
        "transformers"
      ],
      "execution_count": 14,
      "outputs": [
        {
          "output_type": "execute_result",
          "data": {
            "text/plain": [
              "[<deepchem.trans.transformers.NormalizationTransformer at 0x7f9ec2e1d950>,\n",
              " <deepchem.trans.transformers.NormalizationTransformer at 0x7f9ec341c750>]"
            ]
          },
          "metadata": {},
          "execution_count": 14
        }
      ]
    },
    {
      "cell_type": "code",
      "metadata": {
        "id": "T5isyfZZWctd",
        "colab": {
          "base_uri": "https://localhost:8080/"
        },
        "outputId": "dc91765b-cb70-471d-9f41-7903369b5322"
      },
      "source": [
        "tasks"
      ],
      "execution_count": 15,
      "outputs": [
        {
          "output_type": "execute_result",
          "data": {
            "text/plain": [
              "['gap']"
            ]
          },
          "metadata": {},
          "execution_count": 15
        }
      ]
    },
    {
      "cell_type": "code",
      "metadata": {
        "colab": {
          "base_uri": "https://localhost:8080/",
          "height": 597
        },
        "id": "JRk1ltNsySma",
        "outputId": "d452ff7b-c0f8-47c9-b4bc-036600112308"
      },
      "source": [
        "#Conjunto de prueba\n",
        "test_dataframe=test_dataset.to_dataframe()\n",
        "test_dataframe"
      ],
      "execution_count": 16,
      "outputs": [
        {
          "output_type": "execute_result",
          "data": {
            "text/html": [
              "<div>\n",
              "<style scoped>\n",
              "    .dataframe tbody tr th:only-of-type {\n",
              "        vertical-align: middle;\n",
              "    }\n",
              "\n",
              "    .dataframe tbody tr th {\n",
              "        vertical-align: top;\n",
              "    }\n",
              "\n",
              "    .dataframe thead th {\n",
              "        text-align: right;\n",
              "    }\n",
              "</style>\n",
              "<table border=\"1\" class=\"dataframe\">\n",
              "  <thead>\n",
              "    <tr style=\"text-align: right;\">\n",
              "      <th></th>\n",
              "      <th>X1</th>\n",
              "      <th>X2</th>\n",
              "      <th>X3</th>\n",
              "      <th>X4</th>\n",
              "      <th>X5</th>\n",
              "      <th>X6</th>\n",
              "      <th>X7</th>\n",
              "      <th>X8</th>\n",
              "      <th>X9</th>\n",
              "      <th>X10</th>\n",
              "      <th>X11</th>\n",
              "      <th>X12</th>\n",
              "      <th>X13</th>\n",
              "      <th>X14</th>\n",
              "      <th>X15</th>\n",
              "      <th>X16</th>\n",
              "      <th>X17</th>\n",
              "      <th>X18</th>\n",
              "      <th>X19</th>\n",
              "      <th>X20</th>\n",
              "      <th>X21</th>\n",
              "      <th>X22</th>\n",
              "      <th>X23</th>\n",
              "      <th>X24</th>\n",
              "      <th>X25</th>\n",
              "      <th>X26</th>\n",
              "      <th>X27</th>\n",
              "      <th>X28</th>\n",
              "      <th>X29</th>\n",
              "      <th>y</th>\n",
              "      <th>w</th>\n",
              "      <th>ids</th>\n",
              "    </tr>\n",
              "  </thead>\n",
              "  <tbody>\n",
              "    <tr>\n",
              "      <th>0</th>\n",
              "      <td>-0.353197</td>\n",
              "      <td>-0.973397</td>\n",
              "      <td>-0.116120</td>\n",
              "      <td>-0.256034</td>\n",
              "      <td>-0.251900</td>\n",
              "      <td>0.582164</td>\n",
              "      <td>-0.938224</td>\n",
              "      <td>0.063507</td>\n",
              "      <td>0.292885</td>\n",
              "      <td>-0.514381</td>\n",
              "      <td>-0.289469</td>\n",
              "      <td>-0.065625</td>\n",
              "      <td>-0.521141</td>\n",
              "      <td>-0.054473</td>\n",
              "      <td>-0.163449</td>\n",
              "      <td>0.063134</td>\n",
              "      <td>-1.495017</td>\n",
              "      <td>-1.134231</td>\n",
              "      <td>-0.870068</td>\n",
              "      <td>-0.646761</td>\n",
              "      <td>-0.502246</td>\n",
              "      <td>-0.339881</td>\n",
              "      <td>-0.27482</td>\n",
              "      <td>-0.153325</td>\n",
              "      <td>-0.134092</td>\n",
              "      <td>-0.058008</td>\n",
              "      <td>-0.05407</td>\n",
              "      <td>-0.01616</td>\n",
              "      <td>-0.016158</td>\n",
              "      <td>-0.692917</td>\n",
              "      <td>1.0</td>\n",
              "      <td>[H]C1=C([H])N([H])C2=C1/C(N([H])[H])=C(/[H])N2[H]</td>\n",
              "    </tr>\n",
              "    <tr>\n",
              "      <th>1</th>\n",
              "      <td>-1.005893</td>\n",
              "      <td>0.110626</td>\n",
              "      <td>-1.212762</td>\n",
              "      <td>-0.670895</td>\n",
              "      <td>-0.890698</td>\n",
              "      <td>-0.494929</td>\n",
              "      <td>-0.625707</td>\n",
              "      <td>0.119757</td>\n",
              "      <td>-2.213362</td>\n",
              "      <td>-1.152566</td>\n",
              "      <td>0.402132</td>\n",
              "      <td>-0.077382</td>\n",
              "      <td>-0.154438</td>\n",
              "      <td>0.130647</td>\n",
              "      <td>0.275132</td>\n",
              "      <td>0.457978</td>\n",
              "      <td>0.631634</td>\n",
              "      <td>0.816033</td>\n",
              "      <td>0.857921</td>\n",
              "      <td>-0.646761</td>\n",
              "      <td>-0.502246</td>\n",
              "      <td>-0.339881</td>\n",
              "      <td>-0.27482</td>\n",
              "      <td>-0.153325</td>\n",
              "      <td>-0.134092</td>\n",
              "      <td>-0.058008</td>\n",
              "      <td>-0.05407</td>\n",
              "      <td>-0.01616</td>\n",
              "      <td>-0.016158</td>\n",
              "      <td>-1.440794</td>\n",
              "      <td>1.0</td>\n",
              "      <td>[H]C(=O)C([H])([NH+]1C([H])([H])C1([H])C([H])(...</td>\n",
              "    </tr>\n",
              "    <tr>\n",
              "      <th>2</th>\n",
              "      <td>0.327742</td>\n",
              "      <td>0.213650</td>\n",
              "      <td>0.142618</td>\n",
              "      <td>1.615726</td>\n",
              "      <td>0.151433</td>\n",
              "      <td>0.615906</td>\n",
              "      <td>0.380624</td>\n",
              "      <td>0.022698</td>\n",
              "      <td>0.391362</td>\n",
              "      <td>-0.635135</td>\n",
              "      <td>-1.470737</td>\n",
              "      <td>-0.921140</td>\n",
              "      <td>-0.323088</td>\n",
              "      <td>-0.683826</td>\n",
              "      <td>-2.624999</td>\n",
              "      <td>-1.969845</td>\n",
              "      <td>-1.495017</td>\n",
              "      <td>-1.134231</td>\n",
              "      <td>-0.870068</td>\n",
              "      <td>-0.646761</td>\n",
              "      <td>-0.502246</td>\n",
              "      <td>-0.339881</td>\n",
              "      <td>-0.27482</td>\n",
              "      <td>-0.153325</td>\n",
              "      <td>-0.134092</td>\n",
              "      <td>-0.058008</td>\n",
              "      <td>-0.05407</td>\n",
              "      <td>-0.01616</td>\n",
              "      <td>-0.016158</td>\n",
              "      <td>-0.207699</td>\n",
              "      <td>1.0</td>\n",
              "      <td>[H][N-]C1OC([H])([H])C12N([H])C2([H])C#N</td>\n",
              "    </tr>\n",
              "    <tr>\n",
              "      <th>3</th>\n",
              "      <td>1.532409</td>\n",
              "      <td>1.034682</td>\n",
              "      <td>0.020341</td>\n",
              "      <td>0.912933</td>\n",
              "      <td>2.410957</td>\n",
              "      <td>1.140556</td>\n",
              "      <td>2.241870</td>\n",
              "      <td>0.756861</td>\n",
              "      <td>0.684884</td>\n",
              "      <td>-0.747399</td>\n",
              "      <td>-0.290260</td>\n",
              "      <td>-1.306041</td>\n",
              "      <td>-0.622451</td>\n",
              "      <td>-0.690252</td>\n",
              "      <td>-2.624999</td>\n",
              "      <td>-1.969845</td>\n",
              "      <td>-1.495017</td>\n",
              "      <td>-1.134231</td>\n",
              "      <td>-0.870068</td>\n",
              "      <td>-0.646761</td>\n",
              "      <td>-0.502246</td>\n",
              "      <td>-0.339881</td>\n",
              "      <td>-0.27482</td>\n",
              "      <td>-0.153325</td>\n",
              "      <td>-0.134092</td>\n",
              "      <td>-0.058008</td>\n",
              "      <td>-0.05407</td>\n",
              "      <td>-0.01616</td>\n",
              "      <td>-0.016158</td>\n",
              "      <td>-0.949561</td>\n",
              "      <td>1.0</td>\n",
              "      <td>[H]/N=C(/OC([H])([H])[H])N1N=NN=C1[H]</td>\n",
              "    </tr>\n",
              "    <tr>\n",
              "      <th>4</th>\n",
              "      <td>-0.671298</td>\n",
              "      <td>-0.236395</td>\n",
              "      <td>0.677769</td>\n",
              "      <td>0.633144</td>\n",
              "      <td>0.218371</td>\n",
              "      <td>0.045850</td>\n",
              "      <td>0.361226</td>\n",
              "      <td>0.399768</td>\n",
              "      <td>0.496914</td>\n",
              "      <td>1.150271</td>\n",
              "      <td>0.808944</td>\n",
              "      <td>0.675407</td>\n",
              "      <td>0.696754</td>\n",
              "      <td>0.813351</td>\n",
              "      <td>0.536382</td>\n",
              "      <td>0.696508</td>\n",
              "      <td>0.619080</td>\n",
              "      <td>0.856339</td>\n",
              "      <td>1.046756</td>\n",
              "      <td>1.367659</td>\n",
              "      <td>1.804284</td>\n",
              "      <td>-0.339881</td>\n",
              "      <td>-0.27482</td>\n",
              "      <td>-0.153325</td>\n",
              "      <td>-0.134092</td>\n",
              "      <td>-0.058008</td>\n",
              "      <td>-0.05407</td>\n",
              "      <td>-0.01616</td>\n",
              "      <td>-0.016158</td>\n",
              "      <td>2.432930</td>\n",
              "      <td>1.0</td>\n",
              "      <td>[H]OC([H])([H])C([H])(C#N)N([H])C([H])([H])C([...</td>\n",
              "    </tr>\n",
              "    <tr>\n",
              "      <th>...</th>\n",
              "      <td>...</td>\n",
              "      <td>...</td>\n",
              "      <td>...</td>\n",
              "      <td>...</td>\n",
              "      <td>...</td>\n",
              "      <td>...</td>\n",
              "      <td>...</td>\n",
              "      <td>...</td>\n",
              "      <td>...</td>\n",
              "      <td>...</td>\n",
              "      <td>...</td>\n",
              "      <td>...</td>\n",
              "      <td>...</td>\n",
              "      <td>...</td>\n",
              "      <td>...</td>\n",
              "      <td>...</td>\n",
              "      <td>...</td>\n",
              "      <td>...</td>\n",
              "      <td>...</td>\n",
              "      <td>...</td>\n",
              "      <td>...</td>\n",
              "      <td>...</td>\n",
              "      <td>...</td>\n",
              "      <td>...</td>\n",
              "      <td>...</td>\n",
              "      <td>...</td>\n",
              "      <td>...</td>\n",
              "      <td>...</td>\n",
              "      <td>...</td>\n",
              "      <td>...</td>\n",
              "      <td>...</td>\n",
              "      <td>...</td>\n",
              "    </tr>\n",
              "    <tr>\n",
              "      <th>13384</th>\n",
              "      <td>-0.050565</td>\n",
              "      <td>-0.799271</td>\n",
              "      <td>-0.165383</td>\n",
              "      <td>-0.510093</td>\n",
              "      <td>-0.158801</td>\n",
              "      <td>-0.159959</td>\n",
              "      <td>-0.095281</td>\n",
              "      <td>0.063097</td>\n",
              "      <td>0.422237</td>\n",
              "      <td>0.568082</td>\n",
              "      <td>0.146339</td>\n",
              "      <td>0.269728</td>\n",
              "      <td>0.227866</td>\n",
              "      <td>0.064309</td>\n",
              "      <td>0.253752</td>\n",
              "      <td>0.315618</td>\n",
              "      <td>0.482240</td>\n",
              "      <td>0.785076</td>\n",
              "      <td>-0.870068</td>\n",
              "      <td>-0.646761</td>\n",
              "      <td>-0.502246</td>\n",
              "      <td>-0.339881</td>\n",
              "      <td>-0.27482</td>\n",
              "      <td>-0.153325</td>\n",
              "      <td>-0.134092</td>\n",
              "      <td>-0.058008</td>\n",
              "      <td>-0.05407</td>\n",
              "      <td>-0.01616</td>\n",
              "      <td>-0.016158</td>\n",
              "      <td>0.030900</td>\n",
              "      <td>1.0</td>\n",
              "      <td>[H]C([H])([H])C1([H])C([H])([H])C2(C#N)OC1([H]...</td>\n",
              "    </tr>\n",
              "    <tr>\n",
              "      <th>13385</th>\n",
              "      <td>-0.314708</td>\n",
              "      <td>0.076256</td>\n",
              "      <td>-0.354894</td>\n",
              "      <td>-0.014495</td>\n",
              "      <td>-0.513486</td>\n",
              "      <td>-1.205730</td>\n",
              "      <td>-1.024044</td>\n",
              "      <td>-0.302095</td>\n",
              "      <td>-2.232788</td>\n",
              "      <td>-1.675560</td>\n",
              "      <td>-1.200007</td>\n",
              "      <td>-1.278203</td>\n",
              "      <td>-0.964140</td>\n",
              "      <td>-0.723382</td>\n",
              "      <td>-2.624999</td>\n",
              "      <td>-1.969845</td>\n",
              "      <td>-1.495017</td>\n",
              "      <td>-1.134231</td>\n",
              "      <td>-0.870068</td>\n",
              "      <td>-0.646761</td>\n",
              "      <td>-0.502246</td>\n",
              "      <td>-0.339881</td>\n",
              "      <td>-0.27482</td>\n",
              "      <td>-0.153325</td>\n",
              "      <td>-0.134092</td>\n",
              "      <td>-0.058008</td>\n",
              "      <td>-0.05407</td>\n",
              "      <td>-0.01616</td>\n",
              "      <td>-0.016158</td>\n",
              "      <td>-1.611222</td>\n",
              "      <td>1.0</td>\n",
              "      <td>[H]C(=O)N1C([H])=C([H])C([H])=C1N([H])[H]</td>\n",
              "    </tr>\n",
              "    <tr>\n",
              "      <th>13386</th>\n",
              "      <td>2.028780</td>\n",
              "      <td>2.502134</td>\n",
              "      <td>1.188620</td>\n",
              "      <td>1.993695</td>\n",
              "      <td>2.551787</td>\n",
              "      <td>2.303492</td>\n",
              "      <td>-0.099529</td>\n",
              "      <td>0.298092</td>\n",
              "      <td>0.351089</td>\n",
              "      <td>-1.776557</td>\n",
              "      <td>-1.617274</td>\n",
              "      <td>-1.068257</td>\n",
              "      <td>-0.626552</td>\n",
              "      <td>-3.507759</td>\n",
              "      <td>-2.624999</td>\n",
              "      <td>-1.969845</td>\n",
              "      <td>-1.495017</td>\n",
              "      <td>-1.134231</td>\n",
              "      <td>-0.870068</td>\n",
              "      <td>-0.646761</td>\n",
              "      <td>-0.502246</td>\n",
              "      <td>-0.339881</td>\n",
              "      <td>-0.27482</td>\n",
              "      <td>-0.153325</td>\n",
              "      <td>-0.134092</td>\n",
              "      <td>-0.058008</td>\n",
              "      <td>-0.05407</td>\n",
              "      <td>-0.01616</td>\n",
              "      <td>-0.016158</td>\n",
              "      <td>0.273509</td>\n",
              "      <td>1.0</td>\n",
              "      <td>[H][N-]C1=[N+]([H])C(O[H])=NC([H])=C1F</td>\n",
              "    </tr>\n",
              "    <tr>\n",
              "      <th>13387</th>\n",
              "      <td>0.295330</td>\n",
              "      <td>1.314791</td>\n",
              "      <td>0.520005</td>\n",
              "      <td>0.638682</td>\n",
              "      <td>0.203164</td>\n",
              "      <td>-0.318914</td>\n",
              "      <td>0.623145</td>\n",
              "      <td>0.127926</td>\n",
              "      <td>0.297080</td>\n",
              "      <td>-0.234532</td>\n",
              "      <td>0.254981</td>\n",
              "      <td>-0.329968</td>\n",
              "      <td>-0.576376</td>\n",
              "      <td>-0.123882</td>\n",
              "      <td>0.228795</td>\n",
              "      <td>0.073252</td>\n",
              "      <td>-1.495017</td>\n",
              "      <td>-1.134231</td>\n",
              "      <td>-0.870068</td>\n",
              "      <td>-0.646761</td>\n",
              "      <td>-0.502246</td>\n",
              "      <td>-0.339881</td>\n",
              "      <td>-0.27482</td>\n",
              "      <td>-0.153325</td>\n",
              "      <td>-0.134092</td>\n",
              "      <td>-0.058008</td>\n",
              "      <td>-0.05407</td>\n",
              "      <td>-0.01616</td>\n",
              "      <td>-0.016158</td>\n",
              "      <td>-0.903445</td>\n",
              "      <td>1.0</td>\n",
              "      <td>[H]C(=O)C1=C(C([H])([H])[H])C(=O)N([H])C1([H])[H]</td>\n",
              "    </tr>\n",
              "    <tr>\n",
              "      <th>13388</th>\n",
              "      <td>-0.947976</td>\n",
              "      <td>-0.205045</td>\n",
              "      <td>-0.940540</td>\n",
              "      <td>-0.705855</td>\n",
              "      <td>-0.595774</td>\n",
              "      <td>-0.827321</td>\n",
              "      <td>-0.177580</td>\n",
              "      <td>-0.039056</td>\n",
              "      <td>0.446557</td>\n",
              "      <td>0.859858</td>\n",
              "      <td>0.851109</td>\n",
              "      <td>0.801736</td>\n",
              "      <td>0.777756</td>\n",
              "      <td>0.463034</td>\n",
              "      <td>0.696742</td>\n",
              "      <td>0.745546</td>\n",
              "      <td>0.733347</td>\n",
              "      <td>0.945400</td>\n",
              "      <td>1.193454</td>\n",
              "      <td>1.616581</td>\n",
              "      <td>1.979869</td>\n",
              "      <td>-0.339881</td>\n",
              "      <td>-0.27482</td>\n",
              "      <td>-0.153325</td>\n",
              "      <td>-0.134092</td>\n",
              "      <td>-0.058008</td>\n",
              "      <td>-0.05407</td>\n",
              "      <td>-0.01616</td>\n",
              "      <td>-0.016158</td>\n",
              "      <td>1.346202</td>\n",
              "      <td>1.0</td>\n",
              "      <td>[H]OC1([H])C([H])([H])C12C([H])=C([H])C([H])(C...</td>\n",
              "    </tr>\n",
              "  </tbody>\n",
              "</table>\n",
              "<p>13389 rows × 32 columns</p>\n",
              "</div>"
            ],
            "text/plain": [
              "             X1  ...                                                ids\n",
              "0     -0.353197  ...  [H]C1=C([H])N([H])C2=C1/C(N([H])[H])=C(/[H])N2[H]\n",
              "1     -1.005893  ...  [H]C(=O)C([H])([NH+]1C([H])([H])C1([H])C([H])(...\n",
              "2      0.327742  ...           [H][N-]C1OC([H])([H])C12N([H])C2([H])C#N\n",
              "3      1.532409  ...              [H]/N=C(/OC([H])([H])[H])N1N=NN=C1[H]\n",
              "4     -0.671298  ...  [H]OC([H])([H])C([H])(C#N)N([H])C([H])([H])C([...\n",
              "...         ...  ...                                                ...\n",
              "13384 -0.050565  ...  [H]C([H])([H])C1([H])C([H])([H])C2(C#N)OC1([H]...\n",
              "13385 -0.314708  ...          [H]C(=O)N1C([H])=C([H])C([H])=C1N([H])[H]\n",
              "13386  2.028780  ...             [H][N-]C1=[N+]([H])C(O[H])=NC([H])=C1F\n",
              "13387  0.295330  ...  [H]C(=O)C1=C(C([H])([H])[H])C(=O)N([H])C1([H])[H]\n",
              "13388 -0.947976  ...  [H]OC1([H])C([H])([H])C12C([H])=C([H])C([H])(C...\n",
              "\n",
              "[13389 rows x 32 columns]"
            ]
          },
          "metadata": {},
          "execution_count": 16
        }
      ]
    },
    {
      "cell_type": "markdown",
      "metadata": {
        "id": "ptd3t9y5myQD"
      },
      "source": [
        "# Hyperparameter Optimization for the model: ¨MultitaskRegressor¨"
      ]
    },
    {
      "cell_type": "code",
      "metadata": {
        "id": "fB7742KoSKAF"
      },
      "source": [
        "#Param_default:weight_init_stddevs=0.02; bias_init_consts=1.0;weight_decay_penalty=0.0~=0.0001;weight_decay_penalty_type='l2';activation_fns=relu.\n",
        "params_dict = {'n_tasks': [len(tasks)],'n_features': [29],'layer_sizes': [[500], [1000], [1000, 1000], [2000, 900, 800], [2500, 500, 500, 1000], [2000, 800, 800, 1000]],'dropouts': [0.05, 0.1, 0.2, 0.5],'learning_rate': [0.0001, 0.001, 0.0025, 0.005, 0.01, 0.1], 'nb_epoch': [10]} \n",
        "optimizer = dc.hyper.GridHyperparamOpt(dc.models.MultitaskRegressor)\n",
        "metric = dc.metrics.Metric(dc.metrics.mean_absolute_error)\n",
        "best_model, best_hyperparams, all_results = optimizer.hyperparam_search(params_dict, train_dataset, valid_dataset, output_transformers=transformers, metric=metric, use_max=False, optimizer_type = 'GradientDescent')\n"
      ],
      "execution_count": 17,
      "outputs": []
    },
    {
      "cell_type": "code",
      "metadata": {
        "id": "ntSipV8BgeWm",
        "colab": {
          "base_uri": "https://localhost:8080/"
        },
        "outputId": "c3f3b065-c6b6-41fe-dff4-9c5faf6487af"
      },
      "source": [
        "all_results"
      ],
      "execution_count": 18,
      "outputs": [
        {
          "output_type": "execute_result",
          "data": {
            "text/plain": [
              "{'_dropouts_0.050000_layer_sizes[1000, 1000]_learning_rate_0.000100_n_features_29_n_tasks_1_nb_epoch_10': 0.040543119754304136,\n",
              " '_dropouts_0.050000_layer_sizes[1000, 1000]_learning_rate_0.001000_n_features_29_n_tasks_1_nb_epoch_10': 0.04038963194618785,\n",
              " '_dropouts_0.050000_layer_sizes[1000, 1000]_learning_rate_0.002500_n_features_29_n_tasks_1_nb_epoch_10': 0.040472287849636544,\n",
              " '_dropouts_0.050000_layer_sizes[1000, 1000]_learning_rate_0.005000_n_features_29_n_tasks_1_nb_epoch_10': 0.04069751128525199,\n",
              " '_dropouts_0.050000_layer_sizes[1000, 1000]_learning_rate_0.010000_n_features_29_n_tasks_1_nb_epoch_10': 0.04097726740794707,\n",
              " '_dropouts_0.050000_layer_sizes[1000, 1000]_learning_rate_0.100000_n_features_29_n_tasks_1_nb_epoch_10': 0.04149047873545188,\n",
              " '_dropouts_0.050000_layer_sizes[1000]_learning_rate_0.000100_n_features_29_n_tasks_1_nb_epoch_10': 0.0409700747254806,\n",
              " '_dropouts_0.050000_layer_sizes[1000]_learning_rate_0.001000_n_features_29_n_tasks_1_nb_epoch_10': 0.04040531529458396,\n",
              " '_dropouts_0.050000_layer_sizes[1000]_learning_rate_0.002500_n_features_29_n_tasks_1_nb_epoch_10': 0.04023787511216401,\n",
              " '_dropouts_0.050000_layer_sizes[1000]_learning_rate_0.005000_n_features_29_n_tasks_1_nb_epoch_10': 0.040653700830981306,\n",
              " '_dropouts_0.050000_layer_sizes[1000]_learning_rate_0.010000_n_features_29_n_tasks_1_nb_epoch_10': 0.04042330977264498,\n",
              " '_dropouts_0.050000_layer_sizes[1000]_learning_rate_0.100000_n_features_29_n_tasks_1_nb_epoch_10': 0.8092491300154782,\n",
              " '_dropouts_0.050000_layer_sizes[2000, 800, 800, 1000]_learning_rate_0.000100_n_features_29_n_tasks_1_nb_epoch_10': 0.04078932580005984,\n",
              " '_dropouts_0.050000_layer_sizes[2000, 800, 800, 1000]_learning_rate_0.001000_n_features_29_n_tasks_1_nb_epoch_10': 0.04044756218280597,\n",
              " '_dropouts_0.050000_layer_sizes[2000, 800, 800, 1000]_learning_rate_0.002500_n_features_29_n_tasks_1_nb_epoch_10': 0.04131892040775206,\n",
              " '_dropouts_0.050000_layer_sizes[2000, 800, 800, 1000]_learning_rate_0.005000_n_features_29_n_tasks_1_nb_epoch_10': 0.04069687665297986,\n",
              " '_dropouts_0.050000_layer_sizes[2000, 800, 800, 1000]_learning_rate_0.010000_n_features_29_n_tasks_1_nb_epoch_10': 0.04144349697402596,\n",
              " '_dropouts_0.050000_layer_sizes[2000, 800, 800, 1000]_learning_rate_0.100000_n_features_29_n_tasks_1_nb_epoch_10': 0.04250840791143731,\n",
              " '_dropouts_0.050000_layer_sizes[2000, 900, 800]_learning_rate_0.000100_n_features_29_n_tasks_1_nb_epoch_10': 0.04053445332636291,\n",
              " '_dropouts_0.050000_layer_sizes[2000, 900, 800]_learning_rate_0.001000_n_features_29_n_tasks_1_nb_epoch_10': 0.040347882130648445,\n",
              " '_dropouts_0.050000_layer_sizes[2000, 900, 800]_learning_rate_0.002500_n_features_29_n_tasks_1_nb_epoch_10': 0.04144741781346757,\n",
              " '_dropouts_0.050000_layer_sizes[2000, 900, 800]_learning_rate_0.005000_n_features_29_n_tasks_1_nb_epoch_10': 0.04141927578925289,\n",
              " '_dropouts_0.050000_layer_sizes[2000, 900, 800]_learning_rate_0.010000_n_features_29_n_tasks_1_nb_epoch_10': 0.04151761656536116,\n",
              " '_dropouts_0.050000_layer_sizes[2000, 900, 800]_learning_rate_0.100000_n_features_29_n_tasks_1_nb_epoch_10': 0.045807511695127937,\n",
              " '_dropouts_0.050000_layer_sizes[2500, 500, 500, 1000]_learning_rate_0.000100_n_features_29_n_tasks_1_nb_epoch_10': 0.040494241612617214,\n",
              " '_dropouts_0.050000_layer_sizes[2500, 500, 500, 1000]_learning_rate_0.001000_n_features_29_n_tasks_1_nb_epoch_10': 0.04039440211860989,\n",
              " '_dropouts_0.050000_layer_sizes[2500, 500, 500, 1000]_learning_rate_0.002500_n_features_29_n_tasks_1_nb_epoch_10': 0.04063844740505533,\n",
              " '_dropouts_0.050000_layer_sizes[2500, 500, 500, 1000]_learning_rate_0.005000_n_features_29_n_tasks_1_nb_epoch_10': 0.04147658153431394,\n",
              " '_dropouts_0.050000_layer_sizes[2500, 500, 500, 1000]_learning_rate_0.010000_n_features_29_n_tasks_1_nb_epoch_10': 0.04117207893596076,\n",
              " '_dropouts_0.050000_layer_sizes[2500, 500, 500, 1000]_learning_rate_0.100000_n_features_29_n_tasks_1_nb_epoch_10': 0.044738615611479814,\n",
              " '_dropouts_0.050000_layer_sizes[500]_learning_rate_0.000100_n_features_29_n_tasks_1_nb_epoch_10': 0.041154641318268674,\n",
              " '_dropouts_0.050000_layer_sizes[500]_learning_rate_0.001000_n_features_29_n_tasks_1_nb_epoch_10': 0.04078370892519383,\n",
              " '_dropouts_0.050000_layer_sizes[500]_learning_rate_0.002500_n_features_29_n_tasks_1_nb_epoch_10': 0.040293808471022326,\n",
              " '_dropouts_0.050000_layer_sizes[500]_learning_rate_0.005000_n_features_29_n_tasks_1_nb_epoch_10': 0.04049472159124543,\n",
              " '_dropouts_0.050000_layer_sizes[500]_learning_rate_0.010000_n_features_29_n_tasks_1_nb_epoch_10': 0.040721650167840955,\n",
              " '_dropouts_0.050000_layer_sizes[500]_learning_rate_0.100000_n_features_29_n_tasks_1_nb_epoch_10': 0.04079683537444914,\n",
              " '_dropouts_0.100000_layer_sizes[1000, 1000]_learning_rate_0.000100_n_features_29_n_tasks_1_nb_epoch_10': 0.04056400741505184,\n",
              " '_dropouts_0.100000_layer_sizes[1000, 1000]_learning_rate_0.001000_n_features_29_n_tasks_1_nb_epoch_10': 0.04062784903724748,\n",
              " '_dropouts_0.100000_layer_sizes[1000, 1000]_learning_rate_0.002500_n_features_29_n_tasks_1_nb_epoch_10': 0.04048196938723398,\n",
              " '_dropouts_0.100000_layer_sizes[1000, 1000]_learning_rate_0.005000_n_features_29_n_tasks_1_nb_epoch_10': 0.04059925560099741,\n",
              " '_dropouts_0.100000_layer_sizes[1000, 1000]_learning_rate_0.010000_n_features_29_n_tasks_1_nb_epoch_10': 0.041514064097974396,\n",
              " '_dropouts_0.100000_layer_sizes[1000, 1000]_learning_rate_0.100000_n_features_29_n_tasks_1_nb_epoch_10': 0.041291555281076434,\n",
              " '_dropouts_0.100000_layer_sizes[1000]_learning_rate_0.000100_n_features_29_n_tasks_1_nb_epoch_10': 0.04104330274998992,\n",
              " '_dropouts_0.100000_layer_sizes[1000]_learning_rate_0.001000_n_features_29_n_tasks_1_nb_epoch_10': 0.04088309498635011,\n",
              " '_dropouts_0.100000_layer_sizes[1000]_learning_rate_0.002500_n_features_29_n_tasks_1_nb_epoch_10': 0.04053319880847763,\n",
              " '_dropouts_0.100000_layer_sizes[1000]_learning_rate_0.005000_n_features_29_n_tasks_1_nb_epoch_10': 0.04069595034314286,\n",
              " '_dropouts_0.100000_layer_sizes[1000]_learning_rate_0.010000_n_features_29_n_tasks_1_nb_epoch_10': 0.04108397559117642,\n",
              " '_dropouts_0.100000_layer_sizes[1000]_learning_rate_0.100000_n_features_29_n_tasks_1_nb_epoch_10': 1.5674386711711896,\n",
              " '_dropouts_0.100000_layer_sizes[2000, 800, 800, 1000]_learning_rate_0.000100_n_features_29_n_tasks_1_nb_epoch_10': 0.0406676271796765,\n",
              " '_dropouts_0.100000_layer_sizes[2000, 800, 800, 1000]_learning_rate_0.001000_n_features_29_n_tasks_1_nb_epoch_10': 0.04042145336144941,\n",
              " '_dropouts_0.100000_layer_sizes[2000, 800, 800, 1000]_learning_rate_0.002500_n_features_29_n_tasks_1_nb_epoch_10': 0.04079390487931643,\n",
              " '_dropouts_0.100000_layer_sizes[2000, 800, 800, 1000]_learning_rate_0.005000_n_features_29_n_tasks_1_nb_epoch_10': 0.0414433434097639,\n",
              " '_dropouts_0.100000_layer_sizes[2000, 800, 800, 1000]_learning_rate_0.010000_n_features_29_n_tasks_1_nb_epoch_10': 0.04144481568586555,\n",
              " '_dropouts_0.100000_layer_sizes[2000, 800, 800, 1000]_learning_rate_0.100000_n_features_29_n_tasks_1_nb_epoch_10': 0.04216112296871663,\n",
              " '_dropouts_0.100000_layer_sizes[2000, 900, 800]_learning_rate_0.000100_n_features_29_n_tasks_1_nb_epoch_10': 0.04074159264729861,\n",
              " '_dropouts_0.100000_layer_sizes[2000, 900, 800]_learning_rate_0.001000_n_features_29_n_tasks_1_nb_epoch_10': 0.04048997146338946,\n",
              " '_dropouts_0.100000_layer_sizes[2000, 900, 800]_learning_rate_0.002500_n_features_29_n_tasks_1_nb_epoch_10': 0.04052662959656446,\n",
              " '_dropouts_0.100000_layer_sizes[2000, 900, 800]_learning_rate_0.005000_n_features_29_n_tasks_1_nb_epoch_10': 0.041436252013520185,\n",
              " '_dropouts_0.100000_layer_sizes[2000, 900, 800]_learning_rate_0.010000_n_features_29_n_tasks_1_nb_epoch_10': 0.04159337536267347,\n",
              " '_dropouts_0.100000_layer_sizes[2000, 900, 800]_learning_rate_0.100000_n_features_29_n_tasks_1_nb_epoch_10': 0.041378820828172604,\n",
              " '_dropouts_0.100000_layer_sizes[2500, 500, 500, 1000]_learning_rate_0.000100_n_features_29_n_tasks_1_nb_epoch_10': 0.04064726516994626,\n",
              " '_dropouts_0.100000_layer_sizes[2500, 500, 500, 1000]_learning_rate_0.001000_n_features_29_n_tasks_1_nb_epoch_10': 0.0405048697368012,\n",
              " '_dropouts_0.100000_layer_sizes[2500, 500, 500, 1000]_learning_rate_0.002500_n_features_29_n_tasks_1_nb_epoch_10': 0.040571745251494845,\n",
              " '_dropouts_0.100000_layer_sizes[2500, 500, 500, 1000]_learning_rate_0.005000_n_features_29_n_tasks_1_nb_epoch_10': 0.04147877605773153,\n",
              " '_dropouts_0.100000_layer_sizes[2500, 500, 500, 1000]_learning_rate_0.010000_n_features_29_n_tasks_1_nb_epoch_10': 0.0415376716309035,\n",
              " '_dropouts_0.100000_layer_sizes[2500, 500, 500, 1000]_learning_rate_0.100000_n_features_29_n_tasks_1_nb_epoch_10': 0.042167772140589886,\n",
              " '_dropouts_0.100000_layer_sizes[500]_learning_rate_0.000100_n_features_29_n_tasks_1_nb_epoch_10': 0.041039243865635254,\n",
              " '_dropouts_0.100000_layer_sizes[500]_learning_rate_0.001000_n_features_29_n_tasks_1_nb_epoch_10': 0.04099350737599177,\n",
              " '_dropouts_0.100000_layer_sizes[500]_learning_rate_0.002500_n_features_29_n_tasks_1_nb_epoch_10': 0.04048718321817112,\n",
              " '_dropouts_0.100000_layer_sizes[500]_learning_rate_0.005000_n_features_29_n_tasks_1_nb_epoch_10': 0.04043429485071971,\n",
              " '_dropouts_0.100000_layer_sizes[500]_learning_rate_0.010000_n_features_29_n_tasks_1_nb_epoch_10': 0.04070502753504564,\n",
              " '_dropouts_0.100000_layer_sizes[500]_learning_rate_0.100000_n_features_29_n_tasks_1_nb_epoch_10': 0.04119095678617207,\n",
              " '_dropouts_0.200000_layer_sizes[1000, 1000]_learning_rate_0.000100_n_features_29_n_tasks_1_nb_epoch_10': 0.04072110067496585,\n",
              " '_dropouts_0.200000_layer_sizes[1000, 1000]_learning_rate_0.001000_n_features_29_n_tasks_1_nb_epoch_10': 0.040395134309054094,\n",
              " '_dropouts_0.200000_layer_sizes[1000, 1000]_learning_rate_0.002500_n_features_29_n_tasks_1_nb_epoch_10': 0.0404900743618087,\n",
              " '_dropouts_0.200000_layer_sizes[1000, 1000]_learning_rate_0.005000_n_features_29_n_tasks_1_nb_epoch_10': 0.04073054227359202,\n",
              " '_dropouts_0.200000_layer_sizes[1000, 1000]_learning_rate_0.010000_n_features_29_n_tasks_1_nb_epoch_10': 0.041185822998497,\n",
              " '_dropouts_0.200000_layer_sizes[1000, 1000]_learning_rate_0.100000_n_features_29_n_tasks_1_nb_epoch_10': 0.04142652039644722,\n",
              " '_dropouts_0.200000_layer_sizes[1000]_learning_rate_0.000100_n_features_29_n_tasks_1_nb_epoch_10': 0.040956485748639436,\n",
              " '_dropouts_0.200000_layer_sizes[1000]_learning_rate_0.001000_n_features_29_n_tasks_1_nb_epoch_10': 0.040651227983092966,\n",
              " '_dropouts_0.200000_layer_sizes[1000]_learning_rate_0.002500_n_features_29_n_tasks_1_nb_epoch_10': 0.040542814498090975,\n",
              " '_dropouts_0.200000_layer_sizes[1000]_learning_rate_0.005000_n_features_29_n_tasks_1_nb_epoch_10': 0.04087306797417221,\n",
              " '_dropouts_0.200000_layer_sizes[1000]_learning_rate_0.010000_n_features_29_n_tasks_1_nb_epoch_10': 0.04119671768168878,\n",
              " '_dropouts_0.200000_layer_sizes[1000]_learning_rate_0.100000_n_features_29_n_tasks_1_nb_epoch_10': 0.05414875739354307,\n",
              " '_dropouts_0.200000_layer_sizes[2000, 800, 800, 1000]_learning_rate_0.000100_n_features_29_n_tasks_1_nb_epoch_10': 0.04060962553664388,\n",
              " '_dropouts_0.200000_layer_sizes[2000, 800, 800, 1000]_learning_rate_0.001000_n_features_29_n_tasks_1_nb_epoch_10': 0.04045708101323957,\n",
              " '_dropouts_0.200000_layer_sizes[2000, 800, 800, 1000]_learning_rate_0.002500_n_features_29_n_tasks_1_nb_epoch_10': 0.041373044552154695,\n",
              " '_dropouts_0.200000_layer_sizes[2000, 800, 800, 1000]_learning_rate_0.005000_n_features_29_n_tasks_1_nb_epoch_10': 0.04139423297948228,\n",
              " '_dropouts_0.200000_layer_sizes[2000, 800, 800, 1000]_learning_rate_0.010000_n_features_29_n_tasks_1_nb_epoch_10': 0.041499221234986755,\n",
              " '_dropouts_0.200000_layer_sizes[2000, 800, 800, 1000]_learning_rate_0.100000_n_features_29_n_tasks_1_nb_epoch_10': 0.04500508364973291,\n",
              " '_dropouts_0.200000_layer_sizes[2000, 900, 800]_learning_rate_0.000100_n_features_29_n_tasks_1_nb_epoch_10': 0.04058064302277738,\n",
              " '_dropouts_0.200000_layer_sizes[2000, 900, 800]_learning_rate_0.001000_n_features_29_n_tasks_1_nb_epoch_10': 0.040486856821559995,\n",
              " '_dropouts_0.200000_layer_sizes[2000, 900, 800]_learning_rate_0.002500_n_features_29_n_tasks_1_nb_epoch_10': 0.04062947115185838,\n",
              " '_dropouts_0.200000_layer_sizes[2000, 900, 800]_learning_rate_0.005000_n_features_29_n_tasks_1_nb_epoch_10': 0.040674466563170183,\n",
              " '_dropouts_0.200000_layer_sizes[2000, 900, 800]_learning_rate_0.010000_n_features_29_n_tasks_1_nb_epoch_10': 0.041441490054497127,\n",
              " '_dropouts_0.200000_layer_sizes[2000, 900, 800]_learning_rate_0.100000_n_features_29_n_tasks_1_nb_epoch_10': 0.09161390159248141,\n",
              " '_dropouts_0.200000_layer_sizes[2500, 500, 500, 1000]_learning_rate_0.000100_n_features_29_n_tasks_1_nb_epoch_10': 0.04097939294339019,\n",
              " '_dropouts_0.200000_layer_sizes[2500, 500, 500, 1000]_learning_rate_0.001000_n_features_29_n_tasks_1_nb_epoch_10': 0.04044479733078004,\n",
              " '_dropouts_0.200000_layer_sizes[2500, 500, 500, 1000]_learning_rate_0.002500_n_features_29_n_tasks_1_nb_epoch_10': 0.04103014599667966,\n",
              " '_dropouts_0.200000_layer_sizes[2500, 500, 500, 1000]_learning_rate_0.005000_n_features_29_n_tasks_1_nb_epoch_10': 0.04142499714868618,\n",
              " '_dropouts_0.200000_layer_sizes[2500, 500, 500, 1000]_learning_rate_0.010000_n_features_29_n_tasks_1_nb_epoch_10': 0.041468730507213614,\n",
              " '_dropouts_0.200000_layer_sizes[2500, 500, 500, 1000]_learning_rate_0.100000_n_features_29_n_tasks_1_nb_epoch_10': 0.042790828829008726,\n",
              " '_dropouts_0.200000_layer_sizes[500]_learning_rate_0.000100_n_features_29_n_tasks_1_nb_epoch_10': 0.04104686653932902,\n",
              " '_dropouts_0.200000_layer_sizes[500]_learning_rate_0.001000_n_features_29_n_tasks_1_nb_epoch_10': 0.04090276619349053,\n",
              " '_dropouts_0.200000_layer_sizes[500]_learning_rate_0.002500_n_features_29_n_tasks_1_nb_epoch_10': 0.04039348312770354,\n",
              " '_dropouts_0.200000_layer_sizes[500]_learning_rate_0.005000_n_features_29_n_tasks_1_nb_epoch_10': 0.040321177950787324,\n",
              " '_dropouts_0.200000_layer_sizes[500]_learning_rate_0.010000_n_features_29_n_tasks_1_nb_epoch_10': 0.040657828159676376,\n",
              " '_dropouts_0.200000_layer_sizes[500]_learning_rate_0.100000_n_features_29_n_tasks_1_nb_epoch_10': 0.13630326498994608,\n",
              " '_dropouts_0.500000_layer_sizes[1000, 1000]_learning_rate_0.000100_n_features_29_n_tasks_1_nb_epoch_10': 0.0407137354442933,\n",
              " '_dropouts_0.500000_layer_sizes[1000, 1000]_learning_rate_0.001000_n_features_29_n_tasks_1_nb_epoch_10': 0.0406741352785518,\n",
              " '_dropouts_0.500000_layer_sizes[1000, 1000]_learning_rate_0.002500_n_features_29_n_tasks_1_nb_epoch_10': 0.04056759480103,\n",
              " '_dropouts_0.500000_layer_sizes[1000, 1000]_learning_rate_0.005000_n_features_29_n_tasks_1_nb_epoch_10': 0.0411547112250452,\n",
              " '_dropouts_0.500000_layer_sizes[1000, 1000]_learning_rate_0.010000_n_features_29_n_tasks_1_nb_epoch_10': 0.041498382694005055,\n",
              " '_dropouts_0.500000_layer_sizes[1000, 1000]_learning_rate_0.100000_n_features_29_n_tasks_1_nb_epoch_10': 0.041362980046430395,\n",
              " '_dropouts_0.500000_layer_sizes[1000]_learning_rate_0.000100_n_features_29_n_tasks_1_nb_epoch_10': 0.0410994272370303,\n",
              " '_dropouts_0.500000_layer_sizes[1000]_learning_rate_0.001000_n_features_29_n_tasks_1_nb_epoch_10': 0.040774029499607616,\n",
              " '_dropouts_0.500000_layer_sizes[1000]_learning_rate_0.002500_n_features_29_n_tasks_1_nb_epoch_10': 0.0405850349446918,\n",
              " '_dropouts_0.500000_layer_sizes[1000]_learning_rate_0.005000_n_features_29_n_tasks_1_nb_epoch_10': 0.04050257076235595,\n",
              " '_dropouts_0.500000_layer_sizes[1000]_learning_rate_0.010000_n_features_29_n_tasks_1_nb_epoch_10': 0.04087647700394796,\n",
              " '_dropouts_0.500000_layer_sizes[1000]_learning_rate_0.100000_n_features_29_n_tasks_1_nb_epoch_10': 0.06157083781963387,\n",
              " '_dropouts_0.500000_layer_sizes[2000, 800, 800, 1000]_learning_rate_0.000100_n_features_29_n_tasks_1_nb_epoch_10': 0.04139503392955384,\n",
              " '_dropouts_0.500000_layer_sizes[2000, 800, 800, 1000]_learning_rate_0.001000_n_features_29_n_tasks_1_nb_epoch_10': 0.041415696476214084,\n",
              " '_dropouts_0.500000_layer_sizes[2000, 800, 800, 1000]_learning_rate_0.002500_n_features_29_n_tasks_1_nb_epoch_10': 0.04144075145613704,\n",
              " '_dropouts_0.500000_layer_sizes[2000, 800, 800, 1000]_learning_rate_0.005000_n_features_29_n_tasks_1_nb_epoch_10': 0.04157041522756195,\n",
              " '_dropouts_0.500000_layer_sizes[2000, 800, 800, 1000]_learning_rate_0.010000_n_features_29_n_tasks_1_nb_epoch_10': 0.041493205790060265,\n",
              " '_dropouts_0.500000_layer_sizes[2000, 800, 800, 1000]_learning_rate_0.100000_n_features_29_n_tasks_1_nb_epoch_10': 0.044929626158654055,\n",
              " '_dropouts_0.500000_layer_sizes[2000, 900, 800]_learning_rate_0.000100_n_features_29_n_tasks_1_nb_epoch_10': 0.04123311201341052,\n",
              " '_dropouts_0.500000_layer_sizes[2000, 900, 800]_learning_rate_0.001000_n_features_29_n_tasks_1_nb_epoch_10': 0.04106988051745212,\n",
              " '_dropouts_0.500000_layer_sizes[2000, 900, 800]_learning_rate_0.002500_n_features_29_n_tasks_1_nb_epoch_10': 0.041492530274406476,\n",
              " '_dropouts_0.500000_layer_sizes[2000, 900, 800]_learning_rate_0.005000_n_features_29_n_tasks_1_nb_epoch_10': 0.04134010439800125,\n",
              " '_dropouts_0.500000_layer_sizes[2000, 900, 800]_learning_rate_0.010000_n_features_29_n_tasks_1_nb_epoch_10': 0.041599527666899866,\n",
              " '_dropouts_0.500000_layer_sizes[2000, 900, 800]_learning_rate_0.100000_n_features_29_n_tasks_1_nb_epoch_10': 0.04313409371226505,\n",
              " '_dropouts_0.500000_layer_sizes[2500, 500, 500, 1000]_learning_rate_0.000100_n_features_29_n_tasks_1_nb_epoch_10': 0.041471327452863235,\n",
              " '_dropouts_0.500000_layer_sizes[2500, 500, 500, 1000]_learning_rate_0.001000_n_features_29_n_tasks_1_nb_epoch_10': 0.04098146781105886,\n",
              " '_dropouts_0.500000_layer_sizes[2500, 500, 500, 1000]_learning_rate_0.002500_n_features_29_n_tasks_1_nb_epoch_10': 0.041508361084601965,\n",
              " '_dropouts_0.500000_layer_sizes[2500, 500, 500, 1000]_learning_rate_0.005000_n_features_29_n_tasks_1_nb_epoch_10': 0.04131978099708581,\n",
              " '_dropouts_0.500000_layer_sizes[2500, 500, 500, 1000]_learning_rate_0.010000_n_features_29_n_tasks_1_nb_epoch_10': 0.0414608176504248,\n",
              " '_dropouts_0.500000_layer_sizes[2500, 500, 500, 1000]_learning_rate_0.100000_n_features_29_n_tasks_1_nb_epoch_10': 0.04201010626558213,\n",
              " '_dropouts_0.500000_layer_sizes[500]_learning_rate_0.000100_n_features_29_n_tasks_1_nb_epoch_10': 0.040994540439631855,\n",
              " '_dropouts_0.500000_layer_sizes[500]_learning_rate_0.001000_n_features_29_n_tasks_1_nb_epoch_10': 0.040770142139794546,\n",
              " '_dropouts_0.500000_layer_sizes[500]_learning_rate_0.002500_n_features_29_n_tasks_1_nb_epoch_10': 0.04045994818426257,\n",
              " '_dropouts_0.500000_layer_sizes[500]_learning_rate_0.005000_n_features_29_n_tasks_1_nb_epoch_10': 0.040842710572912916,\n",
              " '_dropouts_0.500000_layer_sizes[500]_learning_rate_0.010000_n_features_29_n_tasks_1_nb_epoch_10': 0.0404282109736803,\n",
              " '_dropouts_0.500000_layer_sizes[500]_learning_rate_0.100000_n_features_29_n_tasks_1_nb_epoch_10': 0.05306870901460931}"
            ]
          },
          "metadata": {},
          "execution_count": 18
        }
      ]
    },
    {
      "cell_type": "code",
      "metadata": {
        "id": "9qBC5zLXbkVZ",
        "colab": {
          "base_uri": "https://localhost:8080/"
        },
        "outputId": "c4554678-1f8c-47ad-d961-441ce35f5292"
      },
      "source": [
        "best_model"
      ],
      "execution_count": 19,
      "outputs": [
        {
          "output_type": "stream",
          "name": "stderr",
          "text": [
            "/usr/local/lib/python3.7/dist-packages/sklearn/base.py:197: FutureWarning: From version 0.24, get_params will raise an AttributeError if a parameter cannot be retrieved as an instance attribute. Previously it would return None.\n",
            "  FutureWarning)\n"
          ]
        },
        {
          "output_type": "execute_result",
          "data": {
            "text/plain": [
              "MultitaskRegressor(activation_fns=None, bias_init_consts=None, dropouts=None,\n",
              "                   layer_sizes=None, n_features=29, n_tasks=1, residual=None,\n",
              "                   uncertainty=None, weight_decay_penalty=None,\n",
              "                   weight_decay_penalty_type=None, weight_init_stddevs=None)"
            ]
          },
          "metadata": {},
          "execution_count": 19
        }
      ]
    },
    {
      "cell_type": "code",
      "metadata": {
        "id": "6-nzA9GEcL1r",
        "colab": {
          "base_uri": "https://localhost:8080/"
        },
        "outputId": "c07e66e6-a304-4c89-892a-38905c792956"
      },
      "source": [
        "best_hyperparams"
      ],
      "execution_count": 20,
      "outputs": [
        {
          "output_type": "execute_result",
          "data": {
            "text/plain": [
              "(1, 29, [1000], 0.05, 0.0025, 10)"
            ]
          },
          "metadata": {},
          "execution_count": 20
        }
      ]
    },
    {
      "cell_type": "markdown",
      "metadata": {
        "id": "EKtU_Gyeg9-X"
      },
      "source": [
        "**- Early Stopping:** To obtain the correct number of epoch.\n",
        "\n",
        "We just train it once, monitor the validation score, and keep whichever parameters maximize it. This is called **\"early stopping\"**. DeepChem's ValidationCallback class compute the validation set's  mean_absolute_error every 500 training steps. If you add the save_dir argument, it will also save a copy of the best model parameters to disk.\n",
        "\n",
        "Overfitting happens when the validation set score stops increasing and may even decrease, while the score on the training set continues to improve."
      ]
    },
    {
      "cell_type": "code",
      "metadata": {
        "id": "VI3MiKsSh40P",
        "colab": {
          "base_uri": "https://localhost:8080/"
        },
        "outputId": "742a4aa5-3fae-4161-c7cb-1dff9d8a8233"
      },
      "source": [
        "#model = dc.models.MultitaskRegressor(n_tasks=len(tasks), n_features=29, layer_sizes=[1000], dropouts=0.1, learning_rate=0.001, optimizer_type = 'GradientDescent')\n",
        "metric = dc.metrics.Metric(dc.metrics.mean_absolute_error)\n",
        "#callback = dc.models.ValidationCallback(valid_dataset, 500, metric)\n",
        "#model.fit(train_dataset, nb_epoch=200, callbacks=callback)\n",
        "\n",
        "model = dc.models.MultitaskRegressor(n_tasks=len(tasks), n_features=29, layer_sizes=[1000], dropouts=0.2, learning_rate=0.0001,metric=metric, optimizer_type = 'GradientDescent')\n",
        "model.fit(train_dataset, nb_epoch=20)  #, output_transformers=transformers"
      ],
      "execution_count": 21,
      "outputs": [
        {
          "output_type": "execute_result",
          "data": {
            "text/plain": [
              "1.0120444297790527"
            ]
          },
          "metadata": {},
          "execution_count": 21
        }
      ]
    },
    {
      "cell_type": "markdown",
      "metadata": {
        "id": "vTFO3FYYiPfs"
      },
      "source": [
        "**- Learning Rate Schedules:** To vary the learning rate during training "
      ]
    },
    {
      "cell_type": "code",
      "metadata": {
        "id": "HQeDoUcXSKAN"
      },
      "source": [
        "#learning_rate1 = dc.models.optimizers.ExponentialDecay(0.0002, 0.9, 1000)\n",
        "#model = dc.models.MultitaskRegressor(n_tasks=len(tasks), n_features=23, layer_sizes=[500], dropouts=0.1, learning_rate=learning_rate1, optimizer_type = 'GradientDescent', output_transformers=transformers)\n",
        "#model.fit(train_dataset, nb_epoch=200, callbacks=callback)"
      ],
      "execution_count": 22,
      "outputs": []
    },
    {
      "cell_type": "markdown",
      "metadata": {
        "id": "E2azQOtZnYwb"
      },
      "source": [
        "#Evaluate the performance of the model trained. "
      ]
    },
    {
      "cell_type": "code",
      "metadata": {
        "id": "8R3UIsK3jYoU",
        "colab": {
          "base_uri": "https://localhost:8080/"
        },
        "outputId": "43635d58-dee6-4e0f-8c63-2d4cc8144ff9"
      },
      "source": [
        "metric1 = dc.metrics.Metric(dc.metrics.pearson_r2_score)\n",
        "metric = dc.metrics.Metric(dc.metrics.mean_absolute_error)\n",
        "\n",
        "print(\"Training set:\", model.evaluate(train_dataset, [metric, metric1], transformers))  \n",
        "print(\"Test set:\", model.evaluate(test_dataset, [metric, metric1], transformers))   \n",
        "print(\"Validation set:\", model.evaluate(valid_dataset, [metric, metric1], transformers))    "
      ],
      "execution_count": 23,
      "outputs": [
        {
          "output_type": "stream",
          "name": "stdout",
          "text": [
            "Training set: {'mean_absolute_error': 0.04101383929186455, 'pearson_r2_score': 0.01650666435454469}\n",
            "Test set: {'mean_absolute_error': 0.040889072366183166, 'pearson_r2_score': 0.02041755327974712}\n",
            "Validation set: {'mean_absolute_error': 0.04081131538139032, 'pearson_r2_score': 0.017534823528391454}\n"
          ]
        }
      ]
    },
    {
      "cell_type": "markdown",
      "metadata": {
        "id": "0jbXnDtCf5io"
      },
      "source": [
        "#Predictions"
      ]
    },
    {
      "cell_type": "markdown",
      "metadata": {
        "id": "88vcYfxtg_FJ"
      },
      "source": [
        "- Test set"
      ]
    },
    {
      "cell_type": "code",
      "metadata": {
        "id": "FNuSQwifpJIN",
        "colab": {
          "base_uri": "https://localhost:8080/"
        },
        "outputId": "ada5e464-7565-4fac-db47-666149c80f01"
      },
      "source": [
        "test_prediction= model.predict(test_dataset, transformers)\n",
        "test_prediction"
      ],
      "execution_count": 24,
      "outputs": [
        {
          "output_type": "execute_result",
          "data": {
            "text/plain": [
              "array([[[0.25424398]],\n",
              "\n",
              "       [[0.25390451]],\n",
              "\n",
              "       [[0.2505218 ]],\n",
              "\n",
              "       ...,\n",
              "\n",
              "       [[0.25871916]],\n",
              "\n",
              "       [[0.2547558 ]],\n",
              "\n",
              "       [[0.25402952]]])"
            ]
          },
          "metadata": {},
          "execution_count": 24
        }
      ]
    },
    {
      "cell_type": "code",
      "metadata": {
        "colab": {
          "base_uri": "https://localhost:8080/"
        },
        "id": "KjIUn72u9au6",
        "outputId": "e285e0eb-4cbb-45e3-c7d3-7f2168e25692"
      },
      "source": [
        "test_prediction.shape"
      ],
      "execution_count": 25,
      "outputs": [
        {
          "output_type": "execute_result",
          "data": {
            "text/plain": [
              "(13389, 1, 1)"
            ]
          },
          "metadata": {},
          "execution_count": 25
        }
      ]
    },
    {
      "cell_type": "markdown",
      "metadata": {
        "id": "jkk04Av5ZoEK"
      },
      "source": [
        "Revertir la transformación"
      ]
    },
    {
      "cell_type": "code",
      "metadata": {
        "id": "fsDFEzvlTUWy"
      },
      "source": [
        "def undo_transforms(y, transformers):\n",
        "  \"\"\"Undoes all transformations applied.\"\"\"\n",
        "  # Note that transformers have to be undone in reversed order\n",
        "  for transformer in reversed(transformers):\n",
        "    if transformer.transform_y:\n",
        "      y = transformer.untransform(y)\n",
        "  return y"
      ],
      "execution_count": 26,
      "outputs": []
    },
    {
      "cell_type": "code",
      "metadata": {
        "colab": {
          "base_uri": "https://localhost:8080/"
        },
        "id": "N412nxU-aDvV",
        "outputId": "f01640b5-f6a3-498c-fd10-72de077a1310"
      },
      "source": [
        "test_real=undo_transforms(test_dataset.y, transformers=transformers)\n",
        "test_real"
      ],
      "execution_count": 27,
      "outputs": [
        {
          "output_type": "execute_result",
          "data": {
            "text/plain": [
              "array([[0.2221],\n",
              "       [0.1848],\n",
              "       [0.2463],\n",
              "       ...,\n",
              "       [0.2703],\n",
              "       [0.2116],\n",
              "       [0.3238]])"
            ]
          },
          "metadata": {},
          "execution_count": 27
        }
      ]
    },
    {
      "cell_type": "code",
      "metadata": {
        "id": "XTYWvXpypgUS",
        "colab": {
          "base_uri": "https://localhost:8080/",
          "height": 313
        },
        "outputId": "b843e256-9852-48a4-decc-7325208d139f"
      },
      "source": [
        "plt.scatter(test_prediction,test_real)\n",
        "plt.xlabel('val predicho')\n",
        "plt.ylabel('val real')\n",
        "plt.title(r'predichos vs. valores reales')"
      ],
      "execution_count": 28,
      "outputs": [
        {
          "output_type": "execute_result",
          "data": {
            "text/plain": [
              "Text(0.5, 1.0, 'predichos vs. valores reales')"
            ]
          },
          "metadata": {},
          "execution_count": 28
        },
        {
          "output_type": "display_data",
          "data": {
            "image/png": "[encoded data removed]",
            "text/plain": [
              "<Figure size 432x288 with 1 Axes>"
            ]
          },
          "metadata": {
            "needs_background": "light"
          }
        }
      ]
    },
    {
      "cell_type": "markdown",
      "metadata": {
        "id": "hV3E19l9uusn"
      },
      "source": [
        "- Validation set"
      ]
    },
    {
      "cell_type": "code",
      "metadata": {
        "id": "18SFfRNSvjmH",
        "colab": {
          "base_uri": "https://localhost:8080/"
        },
        "outputId": "181952d9-bbf3-4849-8446-17f4f25b699c"
      },
      "source": [
        "valid_prediction= model.predict(valid_dataset, transformers)\n",
        "valid_prediction"
      ],
      "execution_count": 29,
      "outputs": [
        {
          "output_type": "execute_result",
          "data": {
            "text/plain": [
              "array([[[0.25280966]],\n",
              "\n",
              "       [[0.2581301 ]],\n",
              "\n",
              "       [[0.26008299]],\n",
              "\n",
              "       ...,\n",
              "\n",
              "       [[0.25533522]],\n",
              "\n",
              "       [[0.25239091]],\n",
              "\n",
              "       [[0.25196305]]])"
            ]
          },
          "metadata": {},
          "execution_count": 29
        }
      ]
    },
    {
      "cell_type": "code",
      "metadata": {
        "colab": {
          "base_uri": "https://localhost:8080/"
        },
        "id": "biSmV-2-XUJD",
        "outputId": "5d78a501-7f18-4364-d39b-98c80104f17e"
      },
      "source": [
        "valid_real=undo_transforms(valid_dataset.y, transformers=transformers)\n",
        "valid_real"
      ],
      "execution_count": 30,
      "outputs": [
        {
          "output_type": "execute_result",
          "data": {
            "text/plain": [
              "array([[0.2929],\n",
              "       [0.2386],\n",
              "       [0.2487],\n",
              "       ...,\n",
              "       [0.324 ],\n",
              "       [0.2418],\n",
              "       [0.2316]])"
            ]
          },
          "metadata": {},
          "execution_count": 30
        }
      ]
    },
    {
      "cell_type": "code",
      "metadata": {
        "id": "9qAWEFTuiL1H",
        "colab": {
          "base_uri": "https://localhost:8080/",
          "height": 313
        },
        "outputId": "9b639a55-1129-4078-8646-fd821291f73a"
      },
      "source": [
        "plt.scatter(valid_prediction,valid_real)\n",
        "plt.xlabel('val predicho')\n",
        "plt.ylabel('val real')\n",
        "plt.title(r'predichos vs. valores reales')"
      ],
      "execution_count": 31,
      "outputs": [
        {
          "output_type": "execute_result",
          "data": {
            "text/plain": [
              "Text(0.5, 1.0, 'predichos vs. valores reales')"
            ]
          },
          "metadata": {},
          "execution_count": 31
        },
        {
          "output_type": "display_data",
          "data": {
            "image/png": "[encoded data removed]",
            "text/plain": [
              "<Figure size 432x288 with 1 Axes>"
            ]
          },
          "metadata": {
            "needs_background": "light"
          }
        }
      ]
    },
    {
      "cell_type": "code",
      "metadata": {
        "id": "cbKnEcvf9_ZW"
      },
      "source": [
        ""
      ],
      "execution_count": 31,
      "outputs": []
    }
  ]
}