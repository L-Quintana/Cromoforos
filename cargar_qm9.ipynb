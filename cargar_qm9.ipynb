{
  "nbformat": 4,
  "nbformat_minor": 0,
  "metadata": {
    "colab": {
      "name": "cargar_qm9.ipynb",
      "provenance": [],
      "authorship_tag": "ABX9TyNQAYAU8c5WhltjUUKTLCep",
      "include_colab_link": true
    },
    "kernelspec": {
      "name": "python3",
      "display_name": "Python 3"
    },
    "language_info": {
      "name": "python"
    }
  },
  "cells": [
    {
      "cell_type": "markdown",
      "metadata": {
        "id": "view-in-github",
        "colab_type": "text"
      },
      "source": [
        "<a href=\"https://colab.research.google.com/github/L-Quintana/Cromoforos/blob/main/cargar_qm9.ipynb\" target=\"_parent\"><img src=\"https://colab.research.google.com/assets/colab-badge.svg\" alt=\"Open In Colab\"/></a>"
      ]
    },
    {
      "cell_type": "code",
      "metadata": {
        "colab": {
          "base_uri": "https://localhost:8080/"
        },
        "id": "PvID1BfZKZqV",
        "outputId": "4bd88700-f5ef-4444-b74a-66bf5be136a9"
      },
      "source": [
        "# Conda contiene una serie de herramientas de colab, incluidas Pandas , Scikit-Learn , PyTorch, etc.\n",
        "\n",
        "!curl -Lo conda_installer.py https://raw.githubusercontent.com/deepchem/deepchem/master/scripts/colab_install.py\n",
        "import conda_installer\n",
        "conda_installer.install()\n",
        "!/root/miniconda/bin/conda info -e"
      ],
      "execution_count": null,
      "outputs": [
        {
          "output_type": "stream",
          "text": [
            "  % Total    % Received % Xferd  Average Speed   Time    Time     Time  Current\n",
            "                                 Dload  Upload   Total   Spent    Left  Speed\n",
            "\r  0     0    0     0    0     0      0      0 --:--:-- --:--:-- --:--:--     0\r100  3501  100  3501    0     0  17331      0 --:--:-- --:--:-- --:--:-- 17331\n"
          ],
          "name": "stdout"
        },
        {
          "output_type": "stream",
          "text": [
            "add /root/miniconda/lib/python3.7/site-packages to PYTHONPATH\n",
            "python version: 3.7.11\n",
            "remove current miniconda\n",
            "fetching installer from https://repo.continuum.io/miniconda/Miniconda3-latest-Linux-x86_64.sh\n",
            "done\n",
            "installing miniconda to /root/miniconda\n",
            "done\n",
            "installing rdkit, openmm, pdbfixer\n",
            "added omnia to channels\n",
            "added conda-forge to channels\n",
            "done\n",
            "conda packages installation finished!\n"
          ],
          "name": "stderr"
        },
        {
          "output_type": "stream",
          "text": [
            "# conda environments:\n",
            "#\n",
            "base                  *  /root/miniconda\n",
            "\n"
          ],
          "name": "stdout"
        }
      ]
    },
    {
      "cell_type": "code",
      "metadata": {
        "colab": {
          "base_uri": "https://localhost:8080/"
        },
        "id": "UMr-X0wfKkQY",
        "outputId": "d1e52a98-b176-44e4-f7c7-d4dfc2e9680b"
      },
      "source": [
        "!pip install kora\n",
        "import kora.install.rdkit"
      ],
      "execution_count": null,
      "outputs": [
        {
          "output_type": "stream",
          "text": [
            "Requirement already satisfied: kora in /usr/local/lib/python3.7/dist-packages (0.9.19)\n",
            "Requirement already satisfied: fastcore in /usr/local/lib/python3.7/dist-packages (from kora) (1.3.25)\n",
            "Requirement already satisfied: ipython in /usr/local/lib/python3.7/dist-packages (from kora) (5.5.0)\n",
            "Requirement already satisfied: packaging in /usr/local/lib/python3.7/dist-packages (from fastcore->kora) (21.0)\n",
            "Requirement already satisfied: pip in /usr/local/lib/python3.7/dist-packages (from fastcore->kora) (21.1.3)\n",
            "Requirement already satisfied: traitlets>=4.2 in /usr/local/lib/python3.7/dist-packages (from ipython->kora) (5.0.5)\n",
            "Requirement already satisfied: pexpect in /usr/local/lib/python3.7/dist-packages (from ipython->kora) (4.8.0)\n",
            "Requirement already satisfied: setuptools>=18.5 in /usr/local/lib/python3.7/dist-packages (from ipython->kora) (57.2.0)\n",
            "Requirement already satisfied: prompt-toolkit<2.0.0,>=1.0.4 in /usr/local/lib/python3.7/dist-packages (from ipython->kora) (1.0.18)\n",
            "Requirement already satisfied: simplegeneric>0.8 in /usr/local/lib/python3.7/dist-packages (from ipython->kora) (0.8.1)\n",
            "Requirement already satisfied: pygments in /usr/local/lib/python3.7/dist-packages (from ipython->kora) (2.6.1)\n",
            "Requirement already satisfied: decorator in /usr/local/lib/python3.7/dist-packages (from ipython->kora) (4.4.2)\n",
            "Requirement already satisfied: pickleshare in /usr/local/lib/python3.7/dist-packages (from ipython->kora) (0.7.5)\n",
            "Requirement already satisfied: six>=1.9.0 in /usr/local/lib/python3.7/dist-packages (from prompt-toolkit<2.0.0,>=1.0.4->ipython->kora) (1.15.0)\n",
            "Requirement already satisfied: wcwidth in /usr/local/lib/python3.7/dist-packages (from prompt-toolkit<2.0.0,>=1.0.4->ipython->kora) (0.2.5)\n",
            "Requirement already satisfied: ipython-genutils in /usr/local/lib/python3.7/dist-packages (from traitlets>=4.2->ipython->kora) (0.2.0)\n",
            "Requirement already satisfied: pyparsing>=2.0.2 in /usr/local/lib/python3.7/dist-packages (from packaging->fastcore->kora) (2.4.7)\n",
            "Requirement already satisfied: ptyprocess>=0.5 in /usr/local/lib/python3.7/dist-packages (from pexpect->ipython->kora) (0.7.0)\n"
          ],
          "name": "stdout"
        }
      ]
    },
    {
      "cell_type": "code",
      "metadata": {
        "colab": {
          "base_uri": "https://localhost:8080/"
        },
        "id": "NxC5qBZeTZvL",
        "outputId": "9325237c-ac5c-49f6-b1d9-713d5a9a0715"
      },
      "source": [
        "!pip install --pre deepchem"
      ],
      "execution_count": null,
      "outputs": [
        {
          "output_type": "stream",
          "text": [
            "Requirement already satisfied: deepchem in /usr/local/lib/python3.7/dist-packages (2.6.0.dev20210805163520)\n",
            "Requirement already satisfied: joblib in /usr/local/lib/python3.7/dist-packages (from deepchem) (1.0.1)\n",
            "Requirement already satisfied: scipy in /usr/local/lib/python3.7/dist-packages (from deepchem) (1.4.1)\n",
            "Requirement already satisfied: scikit-learn in /usr/local/lib/python3.7/dist-packages (from deepchem) (0.22.2.post1)\n",
            "Requirement already satisfied: numpy in /usr/local/lib/python3.7/dist-packages (from deepchem) (1.19.5)\n",
            "Requirement already satisfied: pandas in /usr/local/lib/python3.7/dist-packages (from deepchem) (1.1.5)\n",
            "Requirement already satisfied: pytz>=2017.2 in /usr/local/lib/python3.7/dist-packages (from pandas->deepchem) (2018.9)\n",
            "Requirement already satisfied: python-dateutil>=2.7.3 in /usr/local/lib/python3.7/dist-packages (from pandas->deepchem) (2.8.1)\n",
            "Requirement already satisfied: six>=1.5 in /usr/local/lib/python3.7/dist-packages (from python-dateutil>=2.7.3->pandas->deepchem) (1.15.0)\n"
          ],
          "name": "stdout"
        }
      ]
    },
    {
      "cell_type": "code",
      "metadata": {
        "id": "5zwS-QiRKDDg"
      },
      "source": [
        "\"\"\"\n",
        "qm9 dataset loader.\n",
        "\"\"\"\n",
        "import os\n",
        "import deepchem as dc\n",
        "from deepchem.molnet.load_function.molnet_loader import TransformerGenerator, _MolnetLoader\n",
        "from deepchem.data import Dataset\n",
        "from typing import List, Optional, Tuple, Union\n",
        "\n",
        "GDB9_URL = \"https://deepchemdata.s3-us-west-1.amazonaws.com/datasets/gdb9.tar.gz\"\n",
        "QM9_CSV_URL = \"https://deepchemdata.s3-us-west-1.amazonaws.com/datasets/qm9.csv\"\n",
        "QM9_TASKS = [\"mu\", \"alpha\", \"homo\", \"lumo\", \"gap\", \"r2\", \"zpve\", \"cv\", \"u0\", \"u298\",\"h298\", \"g298\"]"
      ],
      "execution_count": null,
      "outputs": []
    },
    {
      "cell_type": "code",
      "metadata": {
        "id": "DOaUDpIwKVQg"
      },
      "source": [
        "class _QM9Loader(_MolnetLoader):\n",
        "\n",
        "  def create_dataset(self) -> Dataset:\n",
        "    dataset_file = os.path.join(self.data_dir, \"gdb9.sdf\")\n",
        "    if not os.path.exists(dataset_file):\n",
        "      dc.utils.data_utils.download_url(url=GDB9_URL, dest_dir=self.data_dir)\n",
        "      dc.utils.data_utils.untargz_file(\n",
        "          os.path.join(self.data_dir, \"gdb9.tar.gz\"), self.data_dir)\n",
        "    loader = dc.data.SDFLoader(\n",
        "        tasks=self.tasks, featurizer=self.featurizer, sanitize=True)\n",
        "    return loader.create_dataset(dataset_file, shard_size=8192)"
      ],
      "execution_count": null,
      "outputs": []
    },
    {
      "cell_type": "code",
      "metadata": {
        "id": "832oqX_RZFZ-"
      },
      "source": [
        "def load_qm9(\n",
        "    featurizer: Union[dc.feat.Featurizer, str] = dc.feat.CoulombMatrix(29),\n",
        "    splitter: Union[dc.splits.Splitter, str, None] = 'random',\n",
        "    transformers: List[Union[TransformerGenerator, str]] = ['normalization'],\n",
        "    reload: bool = True,\n",
        "    data_dir: Optional[str] = None,\n",
        "    save_dir: Optional[str] = None,\n",
        "    **kwargs\n",
        ") -> Tuple[List[str], Tuple[Dataset, ...], List[dc.trans.Transformer]]:\n",
        "  \"\"\"Load QM9 dataset\n",
        "  QM9 is a comprehensive dataset that provides geometric, energetic,\n",
        "  electronic and thermodynamic properties for a subset of GDB-17\n",
        "  database, comprising 134 thousand stable organic molecules with up\n",
        "  to 9 heavy atoms.  All molecules are modeled using density\n",
        "  functional theory (B3LYP/6-31G(2df,p) based DFT).\n",
        "  Random splitting is recommended for this dataset.\n",
        "  The source data contain:\n",
        "  - qm9.sdf: molecular structures\n",
        "  - qm9.sdf.csv: tables for molecular properties\n",
        "    - \"mol_id\" - Molecule ID (gdb9 index) mapping to the .sdf file\n",
        "    - \"A\" - Rotational constant (unit: GHz)\n",
        "    - \"B\" - Rotational constant (unit: GHz)\n",
        "    - \"C\" - Rotational constant (unit: GHz)\n",
        "    - \"mu\" - Dipole moment (unit: D)\n",
        "    - \"alpha\" - Isotropic polarizability (unit: Bohr^3)\n",
        "    - \"homo\" - Highest occupied molecular orbital energy (unit: Hartree)\n",
        "    - \"lumo\" - Lowest unoccupied molecular orbital energy (unit: Hartree)\n",
        "    - \"gap\" - Gap between HOMO and LUMO (unit: Hartree)\n",
        "    - \"r2\" - Electronic spatial extent (unit: Bohr^2)\n",
        "    - \"zpve\" - Zero point vibrational energy (unit: Hartree)\n",
        "    - \"u0\" - Internal energy at 0K (unit: Hartree)\n",
        "    - \"u298\" - Internal energy at 298.15K (unit: Hartree)\n",
        "    - \"h298\" - Enthalpy at 298.15K (unit: Hartree)\n",
        "    - \"g298\" - Free energy at 298.15K (unit: Hartree)\n",
        "    - \"cv\" - Heat capavity at 298.15K (unit: cal/(mol*K))\n",
        "    - \"u0_atom\" - Atomization energy at 0K (unit: kcal/mol)\n",
        "    - \"u298_atom\" - Atomization energy at 298.15K (unit: kcal/mol)\n",
        "    - \"h298_atom\" - Atomization enthalpy at 298.15K (unit: kcal/mol)\n",
        "    - \"g298_atom\" - Atomization free energy at 298.15K (unit: kcal/mol)\n",
        "  \"u0_atom\" ~ \"g298_atom\" (used in MoleculeNet) are calculated from the\n",
        "  differences between \"u0\" ~ \"g298\" and sum of reference energies of all\n",
        "  atoms in the molecules, as given in\n",
        "  https://figshare.com/articles/Atomref%3A_Reference_thermochemical_energies_of_H%2C_C%2C_N%2C_O%2C_F_atoms./1057643\n",
        "  Parameters\n",
        "  ----------\n",
        "  featurizer: Featurizer or str\n",
        "    the featurizer to use for processing the data.  Alternatively you can pass\n",
        "    one of the names from dc.molnet.featurizers as a shortcut.\n",
        "  splitter: Splitter or str\n",
        "    the splitter to use for splitting the data into training, validation, and\n",
        "    test sets.  Alternatively you can pass one of the names from\n",
        "    dc.molnet.splitters as a shortcut.  If this is None, all the data\n",
        "    will be included in a single dataset.\n",
        "  transformers: list of TransformerGenerators or strings\n",
        "    the Transformers to apply to the data.  Each one is specified by a\n",
        "    TransformerGenerator or, as a shortcut, one of the names from\n",
        "    dc.molnet.transformers.\n",
        "  reload: bool\n",
        "    if True, the first call for a particular featurizer and splitter will cache\n",
        "    the datasets to disk, and subsequent calls will reload the cached datasets.\n",
        "  data_dir: str\n",
        "    a directory to save the raw data in\n",
        "  save_dir: str\n",
        "    a directory to save the dataset in\n",
        "  Note\n",
        "  ----\n",
        "  DeepChem 2.4.0 has turned on sanitization for this dataset by\n",
        "  default.  For the QM9 dataset, this means that calling this\n",
        "  function will return 132480 compounds instead of 133885 in the\n",
        "  source dataset file. This appears to be due to valence\n",
        "  specification mismatches in the dataset that weren't caught in\n",
        "  earlier more lax versions of RDKit. Note that this may subtly\n",
        "  affect benchmarking results on this dataset.\n",
        "  References\n",
        "  ----------\n",
        "  .. [1] Blum, Lorenz C., and Jean-Louis Reymond. \"970 million druglike small\n",
        "     molecules for virtual screening in the chemical universe database GDB-13.\"\n",
        "     Journal of the American Chemical Society 131.25 (2009): 8732-8733.\n",
        "  .. [2] Ramakrishnan, Raghunathan, et al. \"Quantum chemistry structures and\n",
        "     properties of 134 kilo molecules.\" Scientific data 1 (2014): 140022.\n",
        "  \"\"\"\n",
        "  loader = _QM9Loader(featurizer, splitter, transformers, QM9_TASKS, data_dir,\n",
        "                      save_dir, **kwargs)\n",
        "  return loader.load_dataset('qm9', reload)"
      ],
      "execution_count": null,
      "outputs": []
    }
  ]
}